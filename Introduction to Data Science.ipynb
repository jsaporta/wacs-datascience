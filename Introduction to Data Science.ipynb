{
 "cells": [
  {
   "cell_type": "markdown",
   "metadata": {},
   "source": [
    "# Introduction to Data Science"
   ]
  },
  {
   "cell_type": "markdown",
   "metadata": {},
   "source": [
    "This is a presentation given to Iowa State University's Women's Alliance for Cybersecurity on April 7th, 2018."
   ]
  },
  {
   "cell_type": "markdown",
   "metadata": {},
   "source": [
    "## What is data science?"
   ]
  },
  {
   "cell_type": "markdown",
   "metadata": {},
   "source": [
    "When a statistician and a database administrator love each other very much, they share a special hug, and 9 months later a data scientist is born.\n",
    "\n",
    "\"Data science\" is not a well-defined field. Here's how I think about it\\*:\n",
    "- **Data management:** Storing and moving data effectively within an organization\n",
    "- **Data analysis:** Using data to learn about the world and make decisions\n",
    "    - **Mathematical modeling:** Analysis via mathematical models\n",
    "        - **Statistics:** Analyzing the process that generated the data\n",
    "        - **Machine learning:** Making predictions\n",
    "    - **Data visualization:** Analysis via charts, interactive dashboards, etc.\n",
    "    \n",
    "These are not mutually exclusive: A plot may include statistical error bars, a machine learning method may require more data than fits in memory, etc.\n",
    "\n",
    "I will focus more on the data analysis side of things in this presentation.\n",
    "\n",
    "###### \\*Many people will disagree with this breakdown."
   ]
  },
  {
   "cell_type": "markdown",
   "metadata": {},
   "source": [
    "## Why should this interest women in cybersecurity?"
   ]
  },
  {
   "cell_type": "markdown",
   "metadata": {},
   "source": [
    "Deciding whether to flag an event as a potential threat, particularly automatically, is a data-driven task:\n",
    "- Log files are data. This dataset can become quite large over time.\n",
    "- What features of an event would make you suspicious of it? What does a \"typical event\" look like?\n",
    "- Relatedly, is there a way to measure the similarity of events to each other?\n",
    "- False negatives are far more problematic than false positives.\n",
    "- These classifications need to be performed in real time.\n",
    "\n",
    "This touches on many aspects of data science."
   ]
  },
  {
   "cell_type": "markdown",
   "metadata": {},
   "source": [
    "## Example"
   ]
  },
  {
   "cell_type": "markdown",
   "metadata": {},
   "source": [
    "This example will demonstrate some of the commonly-used Python data science packages. We will look at a small subset of Los Alamos National Laboratory's [Network Event Dataset](https://csr.lanl.gov/data/2017.html).\n",
    "\n",
    "First, we set things up with the following libraries:\n",
    "- [Matplotlib](https://matplotlib.org/) is Python's most well-established plotting package. It is great for static, 2-dimensional plots, but not great for anything else.\n",
    "- [Pandas](http://pandas.pydata.org/) provides data frames, which are a fundamental data structure in data science. Data frames allow for easy, intuitive manipulation of datasets.\n",
    "- [Seaborn](http://seaborn.pydata.org/) improves Matplotlib's default plot styles, and provides tools to make relatively complex plots quickly."
   ]
  },
  {
   "cell_type": "code",
   "execution_count": 1,
   "metadata": {},
   "outputs": [],
   "source": [
    "import matplotlib.pyplot as plt\n",
    "import pandas as pd\n",
    "import seaborn as sns\n",
    "\n",
    "# This allows Matplotlib to play nicely with the Jupyter notebook format\n",
    "%matplotlib inline\n",
    "\n",
    "# This replaces Matplotlib's ugly default plot styles with something more pleasant\n",
    "sns.set()"
   ]
  },
  {
   "cell_type": "markdown",
   "metadata": {},
   "source": [
    "Import the dataset into a Pandas `DataFrame`:"
   ]
  },
  {
   "cell_type": "code",
   "execution_count": 2,
   "metadata": {},
   "outputs": [],
   "source": [
    "dat = pd.read_feather(\"data/network_event_data.feather\")"
   ]
  },
  {
   "cell_type": "markdown",
   "metadata": {},
   "source": [
    "Field descriptions from the website:\n",
    "- **`time`:** The start time of the event in epoch time format\n",
    "- **`duration`:** The duration of the event in seconds.\n",
    "- **`src_device`:** The device that likely initiated the event.\n",
    "- **`dst_device`:** The receiving device.\n",
    "- **`protocol`:** The protocol number.\n",
    "- **`src_port`:** The port used by the SrcDevice.\n",
    "- **`dst_port`:** The port used by the DstDevice.\n",
    "- **`src_packets`:** The number of packets the SrcDevice sent during the event.\n",
    "- **`dst_packets`:** The number of packets the DstDevice sent during the event.\n",
    "- **`src_bytes`:** The number of bytes the SrcDevice sent during the event.\n",
    "- **`dst_bytes`:** The number of bytes the DstDevice sent during the event."
   ]
  },
  {
   "cell_type": "code",
   "execution_count": 3,
   "metadata": {},
   "outputs": [
    {
     "data": {
      "text/html": [
       "<div>\n",
       "<style scoped>\n",
       "    .dataframe tbody tr th:only-of-type {\n",
       "        vertical-align: middle;\n",
       "    }\n",
       "\n",
       "    .dataframe tbody tr th {\n",
       "        vertical-align: top;\n",
       "    }\n",
       "\n",
       "    .dataframe thead th {\n",
       "        text-align: right;\n",
       "    }\n",
       "</style>\n",
       "<table border=\"1\" class=\"dataframe\">\n",
       "  <thead>\n",
       "    <tr style=\"text-align: right;\">\n",
       "      <th></th>\n",
       "      <th>time</th>\n",
       "      <th>duration</th>\n",
       "      <th>src_device</th>\n",
       "      <th>dst_device</th>\n",
       "      <th>protocol</th>\n",
       "      <th>src_port</th>\n",
       "      <th>dst_port</th>\n",
       "      <th>src_packets</th>\n",
       "      <th>dst_packets</th>\n",
       "      <th>src_bytes</th>\n",
       "      <th>dst_bytes</th>\n",
       "    </tr>\n",
       "  </thead>\n",
       "  <tbody>\n",
       "    <tr>\n",
       "      <th>0</th>\n",
       "      <td>118781</td>\n",
       "      <td>5580</td>\n",
       "      <td>Comp364445</td>\n",
       "      <td>Comp547245</td>\n",
       "      <td>17</td>\n",
       "      <td>Port05507</td>\n",
       "      <td>Port46272</td>\n",
       "      <td>0</td>\n",
       "      <td>755065</td>\n",
       "      <td>0</td>\n",
       "      <td>1042329018</td>\n",
       "    </tr>\n",
       "    <tr>\n",
       "      <th>1</th>\n",
       "      <td>118783</td>\n",
       "      <td>6976</td>\n",
       "      <td>Comp450942</td>\n",
       "      <td>Comp829338</td>\n",
       "      <td>6</td>\n",
       "      <td>Port03137</td>\n",
       "      <td>445</td>\n",
       "      <td>1665</td>\n",
       "      <td>1108</td>\n",
       "      <td>300810</td>\n",
       "      <td>250408</td>\n",
       "    </tr>\n",
       "    <tr>\n",
       "      <th>2</th>\n",
       "      <td>118785</td>\n",
       "      <td>14178</td>\n",
       "      <td>IP564116</td>\n",
       "      <td>Comp141988</td>\n",
       "      <td>17</td>\n",
       "      <td>5060</td>\n",
       "      <td>5060</td>\n",
       "      <td>1866</td>\n",
       "      <td>0</td>\n",
       "      <td>1477041</td>\n",
       "      <td>0</td>\n",
       "    </tr>\n",
       "    <tr>\n",
       "      <th>3</th>\n",
       "      <td>118785</td>\n",
       "      <td>28147</td>\n",
       "      <td>IP564116</td>\n",
       "      <td>Comp141988</td>\n",
       "      <td>17</td>\n",
       "      <td>5060</td>\n",
       "      <td>5060</td>\n",
       "      <td>3326</td>\n",
       "      <td>0</td>\n",
       "      <td>2656305</td>\n",
       "      <td>0</td>\n",
       "    </tr>\n",
       "    <tr>\n",
       "      <th>4</th>\n",
       "      <td>118785</td>\n",
       "      <td>48507</td>\n",
       "      <td>IP564116</td>\n",
       "      <td>Comp141988</td>\n",
       "      <td>17</td>\n",
       "      <td>5060</td>\n",
       "      <td>5060</td>\n",
       "      <td>5423</td>\n",
       "      <td>0</td>\n",
       "      <td>4388449</td>\n",
       "      <td>0</td>\n",
       "    </tr>\n",
       "  </tbody>\n",
       "</table>\n",
       "</div>"
      ],
      "text/plain": [
       "     time  duration  src_device  dst_device  protocol   src_port   dst_port  \\\n",
       "0  118781      5580  Comp364445  Comp547245        17  Port05507  Port46272   \n",
       "1  118783      6976  Comp450942  Comp829338         6  Port03137        445   \n",
       "2  118785     14178    IP564116  Comp141988        17       5060       5060   \n",
       "3  118785     28147    IP564116  Comp141988        17       5060       5060   \n",
       "4  118785     48507    IP564116  Comp141988        17       5060       5060   \n",
       "\n",
       "   src_packets  dst_packets  src_bytes   dst_bytes  \n",
       "0            0       755065          0  1042329018  \n",
       "1         1665         1108     300810      250408  \n",
       "2         1866            0    1477041           0  \n",
       "3         3326            0    2656305           0  \n",
       "4         5423            0    4388449           0  "
      ]
     },
     "execution_count": 3,
     "metadata": {},
     "output_type": "execute_result"
    }
   ],
   "source": [
    "dat.head()"
   ]
  },
  {
   "cell_type": "code",
   "execution_count": 4,
   "metadata": {},
   "outputs": [
    {
     "name": "stdout",
     "output_type": "stream",
     "text": [
      "<class 'pandas.core.frame.DataFrame'>\n",
      "RangeIndex: 200000 entries, 0 to 199999\n",
      "Data columns (total 11 columns):\n",
      "time           200000 non-null int64\n",
      "duration       200000 non-null int64\n",
      "src_device     200000 non-null object\n",
      "dst_device     200000 non-null object\n",
      "protocol       200000 non-null int64\n",
      "src_port       200000 non-null object\n",
      "dst_port       200000 non-null object\n",
      "src_packets    200000 non-null int64\n",
      "dst_packets    200000 non-null int64\n",
      "src_bytes      200000 non-null int64\n",
      "dst_bytes      200000 non-null int64\n",
      "dtypes: int64(7), object(4)\n",
      "memory usage: 16.8+ MB\n"
     ]
    }
   ],
   "source": [
    "dat.info()"
   ]
  },
  {
   "cell_type": "markdown",
   "metadata": {},
   "source": [
    "### Distributions of Event Features"
   ]
  },
  {
   "cell_type": "code",
   "execution_count": 5,
   "metadata": {},
   "outputs": [
    {
     "data": {
      "image/png": "[encoded data removed]",
      "text/plain": [
       "<Figure size 432x288 with 1 Axes>"
      ]
     },
     "metadata": {},
     "output_type": "display_data"
    }
   ],
   "source": [
    "ax = dat[\"time\"].hist(log=True)\n",
    "ax.set_title(\"Histogram of Event Start Times\");"
   ]
  },
  {
   "cell_type": "code",
   "execution_count": 6,
   "metadata": {},
   "outputs": [
    {
     "data": {
      "image/png": "[encoded data removed]",
      "text/plain": [
       "<Figure size 432x288 with 1 Axes>"
      ]
     },
     "metadata": {},
     "output_type": "display_data"
    }
   ],
   "source": [
    "ax = dat[\"duration\"].plot(kind=\"hist\", log=True)\n",
    "ax.set(title=\"Histogram of Network Event Durations (millions of seconds)\",\n",
    "       xticklabels=[str(i) for i in range(9)]);"
   ]
  }
 ],
 "metadata": {
  "kernelspec": {
   "display_name": "Python 3",
   "language": "python",
   "name": "python3"
  },
  "language_info": {
   "codemirror_mode": {
    "name": "ipython",
    "version": 3
   },
   "file_extension": ".py",
   "mimetype": "text/x-python",
   "name": "python",
   "nbconvert_exporter": "python",
   "pygments_lexer": "ipython3",
   "version": "3.6.4"
  }
 },
 "nbformat": 4,
 "nbformat_minor": 2
}
