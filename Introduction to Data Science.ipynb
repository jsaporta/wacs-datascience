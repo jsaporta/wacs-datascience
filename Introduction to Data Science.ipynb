{
 "cells": [
  {
   "cell_type": "markdown",
   "metadata": {},
   "source": [
    "# Introduction to Data Science"
   ]
  },
  {
   "cell_type": "markdown",
   "metadata": {},
   "source": [
    "This is a presentation given to Iowa State University's Women's Alliance for Cybersecurity on April 7th, 2018."
   ]
  },
  {
   "cell_type": "markdown",
   "metadata": {},
   "source": [
    "## What is data science?"
   ]
  },
  {
   "cell_type": "markdown",
   "metadata": {},
   "source": [
    "When a statistician and a database administrator love each other very much, they share a special hug, and 9 months later a data scientist is born.\n",
    "\n",
    "\"Data science\" is not a well-defined field. Here's how I think about it\\*:\n",
    "- **Data management:** Storing and moving data effectively within an organization\n",
    "- **Data analysis:** Using data to learn about the world and make decisions\n",
    "    - **Mathematical modeling:** Analysis via mathematical models\n",
    "        - **Statistics:** Analyzing the process that generated the data\n",
    "        - **Machine learning:** Making predictions\n",
    "    - **Data visualization:** Analysis via charts, interactive dashboards, etc.\n",
    "    \n",
    "These are not mutually exclusive: A plot may include statistical error bars, a machine learning method may require more data than fits in memory, etc.\n",
    "\n",
    "I will focus more on the data analysis side of things in this presentation.\n",
    "\n",
    "###### \\*Many people will disagree with this breakdown."
   ]
  },
  {
   "cell_type": "markdown",
   "metadata": {},
   "source": [
    "## Why should this interest women in cybersecurity?"
   ]
  },
  {
   "cell_type": "markdown",
   "metadata": {},
   "source": [
    "Deciding whether to flag a network event as a potential threat, particularly automatically, may be a data-driven task:\n",
    "- Log files are data. The dataset can become quite large over time.\n",
    "- What features of an event would make you suspicious of it? What does a \"typical event\" look like?\n",
    "- Relatedly, is there a way to measure the similarity of events to each other?\n",
    "- False negatives are far more problematic than false positives.\n",
    "- These classifications may need to be performed in real time.\n",
    "\n",
    "Problems in cybersecurity touch on many aspects of data science."
   ]
  },
  {
   "cell_type": "markdown",
   "metadata": {},
   "source": [
    "## Resources"
   ]
  },
  {
   "cell_type": "markdown",
   "metadata": {},
   "source": [
    "See the ISU data science club's [resources repository](https://github.com/ISU-DataScienceClub/Resources)."
   ]
  },
  {
   "cell_type": "markdown",
   "metadata": {},
   "source": [
    "## Example"
   ]
  },
  {
   "cell_type": "markdown",
   "metadata": {},
   "source": [
    "This example will demonstrate some of the commonly-used Python data science packages. We will look at a small subset of Los Alamos National Laboratory's [Network Event Dataset](https://csr.lanl.gov/data/2017.html).\n",
    "\n",
    "First, we set things up with the following libraries:\n",
    "- [Matplotlib](https://matplotlib.org/) is Python's most well-established plotting package. It is great for static, 2-dimensional plots, but not for anything else.\n",
    "- [Pandas](http://pandas.pydata.org/) provides data frames, which are a fundamental data structure in data science. Data frames allow for easy, intuitive manipulation of datasets.\n",
    "- [Seaborn](http://seaborn.pydata.org/) improves Matplotlib's default plot styles, and provides tools to make relatively complex plots quickly."
   ]
  },
  {
   "cell_type": "code",
   "execution_count": null,
   "metadata": {},
   "outputs": [],
   "source": [
    "import matplotlib.pyplot as plt\n",
    "import pandas as pd\n",
    "import seaborn as sns\n",
    "\n",
    "# This allows Matplotlib to play nicely with the Jupyter notebook format\n",
    "%matplotlib inline\n",
    "\n",
    "# This replaces Matplotlib's ugly default plot styles with something more pleasant\n",
    "sns.set()"
   ]
  },
  {
   "cell_type": "markdown",
   "metadata": {},
   "source": [
    "### Using Pandas to explore the data"
   ]
  },
  {
   "cell_type": "code",
   "execution_count": null,
   "metadata": {},
   "outputs": [],
   "source": [
    "dat = pd.read_feather(\"data/network_event_data.feather\")"
   ]
  },
  {
   "cell_type": "markdown",
   "metadata": {},
   "source": [
    "Field descriptions from the website:\n",
    "- **`time`:** The start time of the event in epoch time format\n",
    "- **`duration`:** The duration of the event in seconds.\n",
    "- **`src_device`:** The device that likely initiated the event.\n",
    "- **`dst_device`:** The receiving device.\n",
    "- **`protocol`:** The protocol number.\n",
    "- **`src_port`:** The port used by the SrcDevice.\n",
    "- **`dst_port`:** The port used by the DstDevice.\n",
    "- **`src_packets`:** The number of packets the SrcDevice sent during the event.\n",
    "- **`dst_packets`:** The number of packets the DstDevice sent during the event.\n",
    "- **`src_bytes`:** The number of bytes the SrcDevice sent during the event.\n",
    "- **`dst_bytes`:** The number of bytes the DstDevice sent during the event."
   ]
  },
  {
   "cell_type": "code",
   "execution_count": null,
   "metadata": {},
   "outputs": [],
   "source": [
    "dat.head()"
   ]
  },
  {
   "cell_type": "code",
   "execution_count": null,
   "metadata": {},
   "outputs": [],
   "source": [
    "dat.info()"
   ]
  },
  {
   "cell_type": "markdown",
   "metadata": {},
   "source": [
    "### Cleaning the source and destination port fields"
   ]
  },
  {
   "cell_type": "markdown",
   "metadata": {},
   "source": [
    "We looked at the first few rows of the dataset earlier. Note that there seem to be some inconsistencies in the `src_port` and `dst_port` fields:"
   ]
  },
  {
   "cell_type": "code",
   "execution_count": null,
   "metadata": {},
   "outputs": [],
   "source": [
    "dat[[\"src_port\", \"dst_port\"]].head()"
   ]
  },
  {
   "cell_type": "markdown",
   "metadata": {},
   "source": [
    "To fix this, we will need to:\n",
    "1. Strip the word \"Port\" from each entry of the column, if it's there.\n",
    "2. Convert the data type of the column to integer."
   ]
  },
  {
   "cell_type": "code",
   "execution_count": null,
   "metadata": {},
   "outputs": [],
   "source": [
    "dat[\"src_port\"] = dat[\"src_port\"].str.strip(\"Port\").astype(int)\n",
    "dat[\"src_port\"].head()"
   ]
  },
  {
   "cell_type": "markdown",
   "metadata": {},
   "source": [
    "Now do the same to the destination port column:"
   ]
  },
  {
   "cell_type": "code",
   "execution_count": null,
   "metadata": {},
   "outputs": [],
   "source": [
    "dat[\"dst_port\"] = dat[\"dst_port\"].str.strip(\"Port\").astype(int)"
   ]
  },
  {
   "cell_type": "markdown",
   "metadata": {},
   "source": [
    "### How many distinct protocols are used on this network?"
   ]
  },
  {
   "cell_type": "code",
   "execution_count": null,
   "metadata": {},
   "outputs": [],
   "source": [
    "unique_protocols = dat[\"protocol\"].unique()\n",
    "print(f\"There are {len(unique_protocols)} distinct protocols used.\")"
   ]
  },
  {
   "cell_type": "markdown",
   "metadata": {},
   "source": [
    "I use \"time\", below, but any other column will do because of how the `count` function works."
   ]
  },
  {
   "cell_type": "code",
   "execution_count": null,
   "metadata": {},
   "outputs": [],
   "source": [
    "dat.groupby(\"protocol\").count()[\"time\"]"
   ]
  },
  {
   "cell_type": "markdown",
   "metadata": {},
   "source": [
    "### Which source device sends the largest average number of packets?"
   ]
  },
  {
   "cell_type": "code",
   "execution_count": null,
   "metadata": {},
   "outputs": [],
   "source": [
    "avg_packets_sent = dat.groupby(\"src_device\")[\"src_packets\"].mean()\n",
    "\n",
    "avg_packets_sent.head()"
   ]
  },
  {
   "cell_type": "code",
   "execution_count": null,
   "metadata": {},
   "outputs": [],
   "source": [
    "avg_packets_sent.sort_values(ascending=False, inplace=True)\n",
    "\n",
    "avg_packets_sent.head()"
   ]
  },
  {
   "cell_type": "code",
   "execution_count": null,
   "metadata": {},
   "outputs": [],
   "source": [
    "print(f\"The device {avg_packets_sent.index[0]} sends the largest number of packets on average.\")"
   ]
  },
  {
   "cell_type": "markdown",
   "metadata": {},
   "source": [
    "### Use Matplotlib (+ Seaborn) to plot the data"
   ]
  },
  {
   "cell_type": "code",
   "execution_count": null,
   "metadata": {},
   "outputs": [],
   "source": [
    "ax = dat[\"duration\"].plot(kind=\"hist\", log=True, figsize=(10, 6))\n",
    "ax.set(title=\"Histogram of Network Event Durations (millions of seconds)\",\n",
    "       xticklabels=[str(i) for i in range(9)]);"
   ]
  },
  {
   "cell_type": "code",
   "execution_count": null,
   "metadata": {},
   "outputs": [],
   "source": [
    "fig, ax = plt.subplots(figsize=(10, 6))\n",
    "ax.plot(dat[\"src_packets\"], dat[\"dst_packets\"])\n",
    "\n",
    "ax.set_title(\"Relationships between packets sent by source and destination for events\");"
   ]
  }
 ],
 "metadata": {
  "kernelspec": {
   "display_name": "Python 3",
   "language": "python",
   "name": "python3"
  },
  "language_info": {
   "codemirror_mode": {
    "name": "ipython",
    "version": 3
   },
   "file_extension": ".py",
   "mimetype": "text/x-python",
   "name": "python",
   "nbconvert_exporter": "python",
   "pygments_lexer": "ipython3",
   "version": "3.6.5"
  }
 },
 "nbformat": 4,
 "nbformat_minor": 2
}
